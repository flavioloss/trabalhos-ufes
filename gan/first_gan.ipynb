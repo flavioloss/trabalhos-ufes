{
 "cells": [
  {
   "cell_type": "code",
   "execution_count": 74,
   "metadata": {},
   "outputs": [
    {
     "data": {
      "text/plain": [
       "<torch._C.Generator at 0x7fe438378fb0>"
      ]
     },
     "execution_count": 74,
     "metadata": {},
     "output_type": "execute_result"
    }
   ],
   "source": [
    "import torch\n",
    "from torch import nn\n",
    "import math\n",
    "import matplotlib.pyplot as plt\n",
    "torch.manual_seed(111)"
   ]
  },
  {
   "cell_type": "code",
   "execution_count": 75,
   "metadata": {},
   "outputs": [
    {
     "data": {
      "text/plain": [
       "[<matplotlib.lines.Line2D at 0x7fe387336250>]"
      ]
     },
     "execution_count": 75,
     "metadata": {},
     "output_type": "execute_result"
    },
    {
     "data": {
      "image/png": "[encoded data removed]",
      "text/plain": [
       "<Figure size 432x288 with 1 Axes>"
      ]
     },
     "metadata": {
      "needs_background": "light"
     },
     "output_type": "display_data"
    }
   ],
   "source": [
    "train_lenght = 1024\n",
    "X = torch.zeros(train_lenght, 2)\n",
    "X[:, 0] = math.pi * 2 * torch.rand(train_lenght)\n",
    "X[:, 1] = torch.sin(X[:, 0])\n",
    "y = torch.zeros(train_lenght)\n",
    "train_data = list(zip(X, y))\n",
    "# train_data = [(X[i], y[i]) for i in range(train_lenght)]\n",
    "plt.plot(X[:, 0], X[:, 1], \".\")"
   ]
  },
  {
   "cell_type": "code",
   "execution_count": 76,
   "metadata": {},
   "outputs": [],
   "source": [
    "batch_size = 32\n",
    "train_dataloader = torch.utils.data.DataLoader(train_data, batch_size=batch_size, shuffle=True)"
   ]
  },
  {
   "cell_type": "code",
   "execution_count": 77,
   "metadata": {},
   "outputs": [],
   "source": [
    "class DiscriminatorNet(nn.Module):\n",
    "    def __init__(self):\n",
    "        super().__init__()\n",
    "        self.model = nn.Sequential(\n",
    "            nn.Linear(2, 512),\n",
    "            nn.ReLU(),\n",
    "            nn.Dropout(0.3),\n",
    "            nn.Linear(512, 256),\n",
    "            nn.ReLU(),\n",
    "            nn.Dropout(0.3),\n",
    "            nn.Linear(256, 128),\n",
    "            nn.ReLU(),\n",
    "            nn.Dropout(0.3),\n",
    "            nn.Linear(128, 64),\n",
    "            nn.ReLU(),\n",
    "            nn.Dropout(0.3),\n",
    "            nn.Linear(64, 1),\n",
    "            nn.Sigmoid(),\n",
    "        )\n",
    "    \n",
    "    def forward(self, x):\n",
    "        output = self.model(x)\n",
    "        return output\n",
    "\n",
    "disc_net = DiscriminatorNet()"
   ]
  },
  {
   "cell_type": "code",
   "execution_count": 78,
   "metadata": {},
   "outputs": [],
   "source": [
    "class GeneratorNet(nn.Module):\n",
    "    def __init__(self):\n",
    "        super().__init__()\n",
    "        self.model = nn.Sequential(\n",
    "            nn.Linear(2, 16),\n",
    "            nn.ReLU(),\n",
    "            nn.Linear(16, 32),\n",
    "            nn.ReLU(),\n",
    "            nn.Linear(32, 2),\n",
    "        )\n",
    "\n",
    "    def forward(self, x):\n",
    "        output = self.model(x)\n",
    "        return output\n",
    "\n",
    "gen_net = GeneratorNet()"
   ]
  },
  {
   "cell_type": "code",
   "execution_count": 79,
   "metadata": {},
   "outputs": [
    {
     "name": "stdout",
     "output_type": "stream",
     "text": [
      "Epoch: 0, Loss Discriminator: 0.2226443737745285\n",
      "Epoch: 0, Loss Generator: 5.4521942138671875\n",
      "Epoch: 10, Loss Discriminator: 0.4376943111419678\n",
      "Epoch: 10, Loss Generator: 1.2598892450332642\n",
      "Epoch: 20, Loss Discriminator: 0.6298313736915588\n",
      "Epoch: 20, Loss Generator: 1.014276385307312\n",
      "Epoch: 30, Loss Discriminator: 0.5686609745025635\n",
      "Epoch: 30, Loss Generator: 1.0218346118927002\n",
      "Epoch: 40, Loss Discriminator: 0.6202436089515686\n",
      "Epoch: 40, Loss Generator: 1.2138384580612183\n",
      "Epoch: 50, Loss Discriminator: 0.6216217875480652\n",
      "Epoch: 50, Loss Generator: 0.7845667004585266\n",
      "Epoch: 60, Loss Discriminator: 0.7271636724472046\n",
      "Epoch: 60, Loss Generator: 0.6444259285926819\n",
      "Epoch: 70, Loss Discriminator: 0.5534158945083618\n",
      "Epoch: 70, Loss Generator: 0.8389837741851807\n",
      "Epoch: 80, Loss Discriminator: 0.6140118837356567\n",
      "Epoch: 80, Loss Generator: 0.78412926197052\n",
      "Epoch: 90, Loss Discriminator: 0.6261143684387207\n",
      "Epoch: 90, Loss Generator: 0.8715825080871582\n",
      "Epoch: 100, Loss Discriminator: 0.6640347838401794\n",
      "Epoch: 100, Loss Generator: 0.7382539510726929\n",
      "Epoch: 110, Loss Discriminator: 0.6726443767547607\n",
      "Epoch: 110, Loss Generator: 0.7937055230140686\n",
      "Epoch: 120, Loss Discriminator: 0.6894001960754395\n",
      "Epoch: 120, Loss Generator: 0.7146217226982117\n",
      "Epoch: 130, Loss Discriminator: 0.6759179830551147\n",
      "Epoch: 130, Loss Generator: 0.7403718829154968\n",
      "Epoch: 140, Loss Discriminator: 0.6485604047775269\n",
      "Epoch: 140, Loss Generator: 0.8086433410644531\n",
      "Epoch: 150, Loss Discriminator: 0.6418663263320923\n",
      "Epoch: 150, Loss Generator: 0.8758760690689087\n",
      "Epoch: 160, Loss Discriminator: 0.6776021718978882\n",
      "Epoch: 160, Loss Generator: 0.7528071999549866\n",
      "Epoch: 170, Loss Discriminator: 0.6873508095741272\n",
      "Epoch: 170, Loss Generator: 0.6330878138542175\n",
      "Epoch: 180, Loss Discriminator: 0.6710802316665649\n",
      "Epoch: 180, Loss Generator: 0.7972871661186218\n",
      "Epoch: 190, Loss Discriminator: 0.6725212335586548\n",
      "Epoch: 190, Loss Generator: 0.8890219926834106\n",
      "Epoch: 200, Loss Discriminator: 0.7207050323486328\n",
      "Epoch: 200, Loss Generator: 0.7115862369537354\n",
      "Epoch: 210, Loss Discriminator: 0.6186733245849609\n",
      "Epoch: 210, Loss Generator: 0.8248468637466431\n",
      "Epoch: 220, Loss Discriminator: 0.7045120000839233\n",
      "Epoch: 220, Loss Generator: 0.727341890335083\n",
      "Epoch: 230, Loss Discriminator: 0.7248019576072693\n",
      "Epoch: 230, Loss Generator: 0.6907315850257874\n",
      "Epoch: 240, Loss Discriminator: 0.7220735549926758\n",
      "Epoch: 240, Loss Generator: 0.6945298314094543\n",
      "Epoch: 250, Loss Discriminator: 0.6901097893714905\n",
      "Epoch: 250, Loss Generator: 0.7012572884559631\n",
      "Epoch: 260, Loss Discriminator: 0.6919156312942505\n",
      "Epoch: 260, Loss Generator: 0.6955515742301941\n",
      "Epoch: 270, Loss Discriminator: 0.5743977427482605\n",
      "Epoch: 270, Loss Generator: 1.0389989614486694\n",
      "Epoch: 280, Loss Discriminator: 0.7091095447540283\n",
      "Epoch: 280, Loss Generator: 0.7260572910308838\n",
      "Epoch: 290, Loss Discriminator: 0.6092437505722046\n",
      "Epoch: 290, Loss Generator: 1.328074336051941\n"
     ]
    }
   ],
   "source": [
    "# training network\n",
    "\n",
    "lr = 0.001\n",
    "epochs = 300\n",
    "loss_function = nn.BCELoss()\n",
    "optimizer_discriminator = torch.optim.Adam(disc_net.parameters(), lr=lr)\n",
    "optimizer_generator = torch.optim.Adam(gen_net.parameters(), lr=lr)\n",
    "\n",
    "for epoch in range(epochs):\n",
    "    for n, (real_samples, _) in enumerate(train_dataloader):\n",
    "        # passing random data for gen net\n",
    "        random_samples = torch.randn((batch_size, 2))\n",
    "        generated_samples = gen_net(random_samples)\n",
    "        real_labels = torch.ones(batch_size, 1)\n",
    "        fake_labels = torch.zeros(batch_size, 1)\n",
    "        all_samples = torch.cat((real_samples, generated_samples))\n",
    "        all_labels = torch.cat((real_labels, fake_labels))\n",
    "\n",
    "        # training the discriminator\n",
    "        disc_net.zero_grad()\n",
    "        output_discriminator = disc_net(all_samples)\n",
    "        loss_discriminator = loss_function(output_discriminator, all_labels)\n",
    "        loss_discriminator.backward()\n",
    "        optimizer_discriminator.step()\n",
    "\n",
    "        # data for the generator\n",
    "        random_samples = torch.randn((batch_size, 2))\n",
    "\n",
    "        # trainning generator\n",
    "        gen_net.zero_grad()\n",
    "        output_generator = gen_net(random_samples)\n",
    "        output_discriminator_generated = disc_net(output_generator)\n",
    "        loss_generator = loss_function(output_discriminator_generated, real_labels)\n",
    "        loss_generator.backward()\n",
    "        optimizer_generator.step()\n",
    "\n",
    "        if epoch % 10 == 0 and batch_size - 1 == n:\n",
    "            print(f\"Epoch: {epoch}, Loss Discriminator: {loss_discriminator}\")\n",
    "            print(f\"Epoch: {epoch}, Loss Generator: {loss_generator}\")"
   ]
  },
  {
   "cell_type": "code",
   "execution_count": 82,
   "metadata": {},
   "outputs": [
    {
     "data": {
      "text/plain": [
       "[<matplotlib.lines.Line2D at 0x7fe3872c0e80>]"
      ]
     },
     "execution_count": 82,
     "metadata": {},
     "output_type": "execute_result"
    },
    {
     "data": {
      "image/png": "[encoded data removed]",
      "text/plain": [
       "<Figure size 432x288 with 1 Axes>"
      ]
     },
     "metadata": {
      "needs_background": "light"
     },
     "output_type": "display_data"
    }
   ],
   "source": [
    "random_sample = torch.randn(100, 2)\n",
    "generated = gen_net(random_sample)\n",
    "generated = generated.detach()\n",
    "plt.plot(generated[:, 0], generated[:, 1], \".\")"
   ]
  }
 ],
 "metadata": {
  "interpreter": {
   "hash": "4e28f3a5ec2008f85fe79ddb654fa41b17f5df10cabde7b793c32b81bb16ab86"
  },
  "kernelspec": {
   "display_name": "Python 3.8.12 ('ufes')",
   "language": "python",
   "name": "python3"
  },
  "language_info": {
   "codemirror_mode": {
    "name": "ipython",
    "version": 3
   },
   "file_extension": ".py",
   "mimetype": "text/x-python",
   "name": "python",
   "nbconvert_exporter": "python",
   "pygments_lexer": "ipython3",
   "version": "3.8.5"
  },
  "orig_nbformat": 4
 },
 "nbformat": 4,
 "nbformat_minor": 2
}
